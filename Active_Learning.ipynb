{
  "cells": [
    {
      "cell_type": "markdown",
      "metadata": {
        "id": "view-in-github",
        "colab_type": "text"
      },
      "source": [
        "<a href=\"https://colab.research.google.com/github/NandhanaRameshkumar/Active-learning/blob/main/Active_Learning.ipynb\" target=\"_parent\"><img src=\"https://colab.research.google.com/assets/colab-badge.svg\" alt=\"Open In Colab\"/></a>"
      ]
    },
    {
      "cell_type": "code",
      "execution_count": null,
      "id": "55c2b504",
      "metadata": {
        "id": "55c2b504",
        "outputId": "0e5e3352-58a7-4fd1-d74d-8460c2338330"
      },
      "outputs": [
        {
          "name": "stdout",
          "output_type": "stream",
          "text": [
            "Learned Q-values:\n",
            "[[-0.21224518  0.15234751]\n",
            " [-0.21076172  0.19145646]\n",
            " [-0.17297433  0.12071937]\n",
            " [-0.1008035  -0.20366559]\n",
            " [ 0.62717776 -0.03176365]]\n"
          ]
        }
      ],
      "source": [
        "import numpy as np\n",
        "\n",
        "class QLearningAgent:\n",
        "    def __init__(self, num_states, num_actions, learning_rate=0.1, discount_factor=0.9, epsilon=0.1):\n",
        "        self.num_states = num_states\n",
        "        self.num_actions = num_actions\n",
        "        self.learning_rate = learning_rate\n",
        "        self.discount_factor = discount_factor\n",
        "        self.epsilon = epsilon\n",
        "        self.q_table = np.zeros((num_states, num_actions))\n",
        "\n",
        "    def choose_action(self, state):\n",
        "        if np.random.uniform(0, 1) < self.epsilon:\n",
        "            return np.random.choice(self.num_actions)  # Exploration\n",
        "        else:\n",
        "            return np.argmax(self.q_table[state])  # Exploitation\n",
        "\n",
        "    def update_q_table(self, state, action, reward, next_state):\n",
        "        best_next_action = np.argmax(self.q_table[next_state])\n",
        "        td_target = reward + self.discount_factor * self.q_table[next_state, best_next_action]\n",
        "        td_error = td_target - self.q_table[state, action]\n",
        "        self.q_table[state, action] += self.learning_rate * td_error\n",
        "\n",
        "# Example usage:\n",
        "if __name__ == \"__main__\":\n",
        "    # Define environment\n",
        "    num_states = 5  # Example: 5 states\n",
        "    num_actions = 2  # Example: 2 actions\n",
        "\n",
        "    # Create Q-learning agent\n",
        "    agent = QLearningAgent(num_states, num_actions)\n",
        "\n",
        "    # Active learning loop\n",
        "    num_episodes = 1000\n",
        "    max_steps = 100\n",
        "    for episode in range(num_episodes):\n",
        "        state = np.random.randint(0, num_states)  # Start from a random state\n",
        "        for step in range(max_steps):\n",
        "            action = agent.choose_action(state)\n",
        "            next_state = np.random.choice(num_states)  # Transition to a random next state\n",
        "            reward = np.random.normal(0, 1)  # Example: Reward from a normal distribution\n",
        "            agent.update_q_table(state, action, reward, next_state)\n",
        "            state = next_state\n",
        "\n",
        "    # Print learned Q-values\n",
        "    print(\"Learned Q-values:\")\n",
        "    print(agent.q_table)\n"
      ]
    }
  ],
  "metadata": {
    "kernelspec": {
      "display_name": "Python 3 (ipykernel)",
      "language": "python",
      "name": "python3"
    },
    "language_info": {
      "codemirror_mode": {
        "name": "ipython",
        "version": 3
      },
      "file_extension": ".py",
      "mimetype": "text/x-python",
      "name": "python",
      "nbconvert_exporter": "python",
      "pygments_lexer": "ipython3",
      "version": "3.9.12"
    },
    "colab": {
      "provenance": [],
      "include_colab_link": true
    }
  },
  "nbformat": 4,
  "nbformat_minor": 5
}